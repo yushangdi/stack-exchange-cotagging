{
 "cells": [
  {
   "cell_type": "code",
   "execution_count": null,
   "metadata": {},
   "outputs": [],
   "source": [
    "import pandas as pd\n",
    "import matplotlib.pyplot as plt\n",
    "import numpy as np\n",
    "import scipy.stats as st\n",
    "import os\n",
    "import errno\n",
    "from helpers import *"
   ]
  },
  {
   "cell_type": "markdown",
   "metadata": {},
   "source": [
    "## Directory for saving plots"
   ]
  },
  {
   "cell_type": "code",
   "execution_count": null,
   "metadata": {},
   "outputs": [],
   "source": [
    "try:\n",
    "    os.makedirs(\"files/tex\")\n",
    "except OSError as e:\n",
    "    if e.errno != errno.EEXIST:\n",
    "        raise"
   ]
  },
  {
   "cell_type": "markdown",
   "metadata": {},
   "source": [
    "### 2D scatter plot of parameters of tag-cotag linear fit"
   ]
  },
  {
   "cell_type": "code",
   "execution_count": null,
   "metadata": {},
   "outputs": [],
   "source": [
    "final_df = pd.read_csv(\"results/stats.csv\")\n",
    "assert (len(final_df)==168)"
   ]
  },
  {
   "cell_type": "code",
   "execution_count": null,
   "metadata": {},
   "outputs": [],
   "source": [
    "final_df[final_df['num_tag']==max(final_df['num_tag'])]"
   ]
  },
  {
   "cell_type": "code",
   "execution_count": null,
   "metadata": {},
   "outputs": [],
   "source": [
    "final_df[final_df['num_tag']==min(final_df['num_tag'])]"
   ]
  },
  {
   "cell_type": "code",
   "execution_count": null,
   "metadata": {},
   "outputs": [],
   "source": [
    "print(\"average correlation\", np.mean(final_df['r_value']))"
   ]
  },
  {
   "cell_type": "code",
   "execution_count": null,
   "metadata": {},
   "outputs": [],
   "source": [
    "fig = plt.figure(figsize = (6,4))\n",
    "plt.rcParams.update({'font.size': 20})\n",
    "\n",
    "ax1 = fig.add_subplot(111)\n",
    "\n",
    "ax1.hist(final_df['slope'].values, bins = 20, density = True, color = 'gray')\n",
    "ax1.set_xlabel(\"Slope (Data)\")\n",
    "ax1.set_ylabel(\"Frequency\")\n",
    "\n",
    "ax1.axvline(x=np.mean(final_df['slope']), c= 'red', label = \"mean=%0.2f\"%np.mean(final_df['slope']), linewidth = 5)\n",
    "ax1.axvline(x=np.median(final_df['slope']), c= 'orange', label = \"median=%0.2f\"%np.median(final_df['slope']), linewidth = 5, linestyle = \"--\")\n",
    "plt.legend(prop={'size': 15})\n",
    "plt.savefig(\"files/tex/\"+'slope.pdf', bbox_inches='tight', pad_inches=0.2)\n",
    "plt.show()\n"
   ]
  },
  {
   "cell_type": "code",
   "execution_count": null,
   "metadata": {},
   "outputs": [],
   "source": [
    "final_df.iloc[np.argmax(final_df['r_value'])][\"filename\"]"
   ]
  },
  {
   "cell_type": "markdown",
   "metadata": {},
   "source": [
    "## Clustering"
   ]
  },
  {
   "cell_type": "code",
   "execution_count": null,
   "metadata": {},
   "outputs": [],
   "source": [
    "final_df = pd.read_csv(\"results/clustering.csv\", index_col = 0).sort_values('filename').reset_index()\n",
    "final_df.drop(\"weighted_log\", axis = 1)\n",
    "final_dfnorm = pd.read_csv(\"results/clustering2.csv\", index_col = 0).sort_values('filename').reset_index()\n",
    "df_stats = pd.read_csv(\"results/stats.csv\").sort_values('filename')\n",
    "assert len(final_df)==168\n",
    "assert len(final_dfnorm)==168\n",
    "assert len(df_stats)==168"
   ]
  },
  {
   "cell_type": "code",
   "execution_count": null,
   "metadata": {},
   "outputs": [],
   "source": [
    "fig = plt.figure(figsize = (15,4))\n",
    "plt.rcParams.update({'font.size': 20})\n",
    "\n",
    "ax1 = fig.add_subplot(131)\n",
    "ax2 = fig.add_subplot(132)\n",
    "ax3 = fig.add_subplot(133)\n",
    "\n",
    "def plot_cc_normal_helper(ax,xlabel):\n",
    "    \n",
    "    #parameters\n",
    "    if xlabel == \"$CC$\":\n",
    "        data = final_df[final_df[\"unweighted\"]>0.2][\"unweighted\"].values             \n",
    "    if xlabel == \"$\\ln(CC_w)$\":\n",
    "        data = np.log(final_df[\"weighted\"].values)         \n",
    "    if xlabel == \"$CC_{wl}$\":\n",
    "        data =  final_dfnorm[\"weighted_log\"].values\n",
    "\n",
    "    \n",
    "    params = np.mean(data), np.std(data)\n",
    "    \n",
    "    #plotting\n",
    "    if xlabel == \"$CC$\":\n",
    "        data = final_df[\"unweighted\"].values\n",
    "    \n",
    "    x = np.arange(min(data), max(data), (max(data)-min(data))/50)\n",
    "    ax.hist(data, bins = 25, density = True, color = 'gray')\n",
    "   \n",
    "    fitted = st.norm.pdf(x, loc=params[-2], scale=params[-1])\n",
    "    ax.plot(x,fitted, label=(\"N(%0.2f, %0.2f)\" % params), linewidth = 5, color = 'black')\n",
    "    ax.legend(prop={'size': 15},markerscale=0.3, handlelength=0.2, loc=2)\n",
    "    ax.set_xlabel(xlabel)\n",
    "    ax.set_ylabel(\"Frequency\")\n",
    "\n",
    "    \n",
    "plot_cc_normal_helper(ax1,\"$CC$\")\n",
    "plot_cc_normal_helper(ax2,\"$\\ln(CC_w)$\")\n",
    "plot_cc_normal_helper(ax3,\"$CC_{wl}$\")\n",
    "\n",
    "\n",
    "plt.tight_layout()\n",
    "plt.savefig(\"files/tex/\"+'CC1.pdf', bbox_inches='tight', pad_inches=0.2)\n",
    "\n",
    "plt.show()"
   ]
  },
  {
   "cell_type": "code",
   "execution_count": null,
   "metadata": {},
   "outputs": [],
   "source": [
    "fig = plt.figure(figsize = (15,4))\n",
    "plt.rcParams.update({'font.size': 20})\n",
    "\n",
    "ax1 = fig.add_subplot(131)\n",
    "ax2 = fig.add_subplot(132)\n",
    "ax3 = fig.add_subplot(133)\n",
    "\n",
    "def plot_cc_helper(ax,ylabel):\n",
    "    if ylabel == \"$CC$\":\n",
    "        data = final_df[\"unweighted\"]\n",
    "    if ylabel == \"$\\ln(CC_w)$\":\n",
    "        data = np.log(final_df[\"weighted\"])\n",
    "    if ylabel == \"$CC_{wl}$\":\n",
    "        data =  final_dfnorm[\"weighted_log\"]\n",
    "        \n",
    "    ax.scatter(df_stats[\"num_post\"], data, s = 15, c = 'black')\n",
    "    ax.set_xscale('log')\n",
    "    ax.set_xlabel(\"Number of Questions\")\n",
    "    ax.set_ylabel(ylabel)\n",
    "    corr = np.corrcoef(np.log(df_stats[\"num_post\"]), data)\n",
    "    ax.legend(['Corr = %0.3f'%corr[0][1]], handlelength=0, markerscale=0, prop = {\"size\":18})\n",
    "\n",
    "    \n",
    "plot_cc_helper(ax1,\"$CC$\")\n",
    "plot_cc_helper(ax2,\"$\\ln(CC_w)$\")\n",
    "plot_cc_helper(ax3,\"$CC_{wl}$\")\n",
    "\n",
    "\n",
    "plt.tight_layout()\n",
    "plt.savefig(\"files/tex/\"+'CC_indsize.pdf', bbox_inches='tight', pad_inches=0.2)"
   ]
  },
  {
   "cell_type": "markdown",
   "metadata": {},
   "source": [
    "## Polynonimal Fit"
   ]
  },
  {
   "cell_type": "code",
   "execution_count": null,
   "metadata": {},
   "outputs": [],
   "source": [
    "df  = pd.read_csv(\"results/poly_params.csv\", index_col = 0)\n",
    "PC_dict = np.load('results/param_PC.npy').item()\n",
    "assert (len(df)==168)\n",
    "assert (len(PC_df)==168)"
   ]
  },
  {
   "cell_type": "code",
   "execution_count": null,
   "metadata": {},
   "outputs": [],
   "source": [
    "for k in PC_dict.keys():\n",
    "    print(k, \"\\n\", PC_dict[k])"
   ]
  },
  {
   "cell_type": "markdown",
   "metadata": {},
   "source": [
    "## Theory"
   ]
  },
  {
   "cell_type": "code",
   "execution_count": null,
   "metadata": {},
   "outputs": [],
   "source": [
    "final_df = pd.read_csv(\"results/theory_cotag_u.csv\")\n",
    "assert (len(final_df)==168)"
   ]
  },
  {
   "cell_type": "code",
   "execution_count": null,
   "metadata": {},
   "outputs": [],
   "source": [
    "x,y = plot_CDF_helper(final_df['mre_log'])\n",
    "plt.plot(x,y, linewidth = 5, color = 'black')\n",
    "plt.axhline(y = 0.8, color = 'gray', linestyle = \"--\")\n",
    "# plt.axvline(x = 30, color = 'gray', linestyle = \"--\")\n",
    "plt.axvline(x = 0.5, color = 'gray', linestyle = \"--\")\n",
    "plt.xlabel(\"Mean Error (ln(Expected+1) - ln(Data+1))\")\n",
    "plt.ylabel(\"CDF\")\n",
    "plt.savefig(\"files/tex/\"+'mre_log.pdf', bbox_inches='tight', pad_inches=0.2)"
   ]
  },
  {
   "cell_type": "code",
   "execution_count": null,
   "metadata": {},
   "outputs": [],
   "source": [
    "final_df = pd.read_csv(\"results/var_zero_post.csv\", index_col = 0)\n",
    "x,y= plot_CDF_helper(final_df[\"sqrt_p\"])\n",
    "plt.axhline(y = 0.8, color = 'gray', linestyle = \"--\")\n",
    "plt.axvline(x = 0.008, color = 'gray', linestyle = \"--\")\n",
    "\n",
    "plt.plot(x,y,  linewidth = 5, color = 'black')\n",
    "plt.xlabel(\"Standard dev.\\ $\\hat{N}$\")\n",
    "plt.ylabel('CDF')\n",
    "plt.savefig(\"files/tex/\"+'variance.pdf', bbox_inches='tight', pad_inches=0.2)"
   ]
  },
  {
   "cell_type": "markdown",
   "metadata": {},
   "source": [
    "## Tag Frequency Lognormal Fit"
   ]
  },
  {
   "cell_type": "code",
   "execution_count": null,
   "metadata": {},
   "outputs": [],
   "source": [
    "df_final = pd.read_csv(\"./results/tagfreq.csv\", index_col = 0).sort_values('filename').reset_index()\n",
    "assert len(df_final) == 168"
   ]
  },
  {
   "cell_type": "code",
   "execution_count": null,
   "metadata": {},
   "outputs": [],
   "source": [
    "df_final[df_final[\"filename\"] ==\"patents\"]"
   ]
  },
  {
   "cell_type": "code",
   "execution_count": null,
   "metadata": {},
   "outputs": [],
   "source": [
    "# machine accuracy\n",
    "df_final['pl_pm'] =  df_final['pl_p']\n",
    "df_final.loc[df_final['pl_pm']<1e-16,['pl_pm']] = 1e-16\n",
    "\n",
    "df_final['tpl_pm'] =  df_final['tpl_p']\n",
    "df_final.loc[df_final['tpl_pm']<1e-16,['tpl_pm']] = 1e-16\n",
    "\n",
    "df_final['sexp_pm'] =  df_final['sexp_p']\n",
    "df_final.loc[df_final['sexp_pm']<1e-16,['sexp_pm']] = 1e-16"
   ]
  },
  {
   "cell_type": "code",
   "execution_count": null,
   "metadata": {},
   "outputs": [],
   "source": [
    "def plot_p_helper(data, label, color, linewidth, style):\n",
    "    x,y = plot_CDF_helper(data)\n",
    "    plt.plot(x,y, label = label, color = color, linewidth = linewidth, alpha = 0.7, linestyle = style)\n",
    "plt.rcParams.update({'font.size': 20})\n",
    "fig = plt.figure(figsize = (7,4))\n",
    "data = df_final[df_final['pl_pm']>0]['pl_pm']\n",
    "plot_p_helper(data, label = \"Power Law\", color = 'purple', linewidth = 5, style = ':')\n",
    "data = df_final[df_final['tpl_pm']>0]['tpl_pm']\n",
    "plot_p_helper(data, label = \"Trunc. Power Law\", color = 'r', linewidth = 5, style =':')\n",
    "data = df_final[df_final['sexp_pm']>0]['sexp_pm']\n",
    "plot_p_helper(data, label = \"Stretched Exp.\", color = 'g', linewidth = 5, style ='-.')\n",
    "\n",
    "plt.axvline(x=0.1, color = 'black', label = \"p = 0.1\")\n",
    "plt.xlabel(\"p-value for Distribution Comparisons\")\n",
    "plt.ylabel(\"CDF\")\n",
    "\n",
    "plt.legend( handlelength = 3)\n",
    "plt.savefig(\"files/tex/\"+'compare_p.pdf', bbox_inches='tight', pad_inches=0.2)"
   ]
  },
  {
   "cell_type": "code",
   "execution_count": null,
   "metadata": {},
   "outputs": [],
   "source": [
    "fig = plt.figure(figsize = (7,4))\n",
    "plt.rcParams.update({'font.size': 20})\n",
    "plt.scatter(df_final['pl_R'],df_final['pl_pm'], color = 'purple', s = 20, alpha = 0.3, label = 'Power Law', marker = '^')\n",
    "plt.scatter(df_final['tpl_R'],df_final['tpl_pm'], color = 'r', s = 20, alpha = 0.3, label = 'Trunc. Power Law', marker = 's')\n",
    "plt.scatter(df_final['sexp_R'],df_final['sexp_pm'], color = 'g', s = 20, alpha = 0.3, label = 'Stretched Exp.', marker = 'D')\n",
    "plt.xlabel(\"R values\")\n",
    "plt.ylabel('Max(p, 1e-16)')\n",
    "plt.yscale('log')\n",
    "plt.ylim(bottom = 1e-17, top = 10)\n",
    "plt.axvline(x=0)\n",
    "plt.legend(markerscale = 4)\n",
    "plt.savefig(\"files/tex/\"+'p-r-scatter.pdf', bbox_inches='tight', pad_inches=0.2)"
   ]
  },
  {
   "cell_type": "code",
   "execution_count": null,
   "metadata": {},
   "outputs": [],
   "source": [
    "plt.rcParams.update({'font.size': 20})\n",
    "fig = plt.figure(figsize = (7,4))\n",
    "x,y = plot_CDF_helper(df_final['ks'])\n",
    "plt.plot(x,y, linewidth = 5, color = 'orange', label = 'Lognormal', linestyle = \"--\")\n",
    "\n",
    "x,y = plot_CDF_helper(df_final['pl_ks'])\n",
    "plt.plot(x,y, label = \"Power Law\", color = 'purple', linewidth = 3, linestyle = \":\")\n",
    "x,y = plot_CDF_helper(df_final['tpl_ks'])\n",
    "plt.plot(x,y, label = \"Trunc. Power Law\", color = 'r', linewidth = 3, linestyle = \":\")\n",
    "x,y = plot_CDF_helper(df_final['sexp_ks'])\n",
    "plt.plot(x,y, label = \"Stretched Exp.\", color = 'g', linewidth = 3, linestyle = \"-.\")\n",
    "\n",
    "plt.axhline(y = 0.8, linestyle = ':', color = 'gray')\n",
    "plt.axvline(x = 0.06, linestyle = ':', color = 'gray')\n",
    "plt.axhline(y = 0.99, linestyle = ':', color = 'gray')\n",
    "plt.axvline(x = 0.15, linestyle = ':', color = 'gray')\n",
    "plt.xlabel(\"KS Statistic\")\n",
    "plt.ylabel(\"CDF\")\n",
    "plt.legend(loc = 4)\n",
    "plt.savefig(\"files/tex/\"+'ks.pdf', bbox_inches='tight', pad_inches=0.2)"
   ]
  },
  {
   "cell_type": "code",
   "execution_count": null,
   "metadata": {},
   "outputs": [],
   "source": [
    "df_final = df_final[df_final[\"filename\"] !=\"patents\"]\n",
    "fig = plt.figure(figsize = (7,4))\n",
    "plt.rcParams.update({'font.size': 20})\n",
    "\n",
    "ax1 = fig.add_subplot(111)\n",
    "# ax1.ticklabel_format(style='sci',scilimits=(0,3), axis='both')\n",
    "# ax2 = fig.add_subplot(122)\n",
    "# ax2.ticklabel_format(style='sci',scilimits=(0,3), axis='both')\n",
    "\n",
    "ax1.hist(df_final[\"mu\"].values, bins = 25, density = True, color = 'blue', alpha = 0.6)\n",
    "\n",
    "# params = st.norm.fit(data=)\n",
    "# print(params)\n",
    "data = df_final[df_final['mu']>-1]['mu']\n",
    "params = np.mean(data), np.std(data)\n",
    "x = np.arange(min(df_final['mu']), max(df_final['mu']), 0.1)\n",
    "fitted = st.norm.pdf(x, loc=params[-2], scale=params[-1])\n",
    "ax1.plot(x,fitted, label=(\"$\\mu \\sim$N(%0.2f, %0.2f)\" % params), linewidth = 5, color = 'black', linestyle = ':')\n",
    "\n",
    "ax1.set_xlabel(\"Parameters of Lognormal Fits\")\n",
    "\n",
    "\n",
    "ax1.hist(df_final[\"sigma\"].values, bins = 25, density = True, color = 'green', alpha = 0.6)\n",
    "\n",
    "# params = st.norm.fit(data=)\n",
    "data = df_final[df_final['sigma']<2.5]['sigma']\n",
    "params = np.mean(data), np.std(data)\n",
    "x = np.arange(min(df_final['sigma']), max(df_final['sigma']), 0.1)\n",
    "fitted = st.norm.pdf(x, loc=params[-2], scale=params[-1])\n",
    "ax1.plot(x,fitted, label=\"$\\sigma \\sim$N(%0.2f, %0.2f)\"%params, linewidth = 5, color = 'black', linestyle = '--')\n",
    "\n",
    "# ax2.set_xlabel(\"$\\sigma$\")\n",
    "\n",
    "ax1.set_ylabel(\"Frequency\")\n",
    "# ax2.set_ylabel(\"Frequency\")\n",
    "ax1.legend(prop = {'size':18},loc = 2, handlelength = 1)\n",
    "# ax2.legend()\n",
    "plt.savefig(\"files/tex/\"+'tag_freq_params.pdf', bbox_inches='tight', pad_inches=0.2)\n",
    "plt.show()"
   ]
  },
  {
   "cell_type": "code",
   "execution_count": null,
   "metadata": {},
   "outputs": [],
   "source": [
    "np.sum(df_final['pl_R']<0), np.sum(df_final['sexp_R']<0), np.sum(df_final['tpl_R']<0), "
   ]
  },
  {
   "cell_type": "code",
   "execution_count": null,
   "metadata": {},
   "outputs": [],
   "source": [
    "def plot_lognorm_fit(filename, fig, xmin = 1):\n",
    "    \n",
    "    df_cotag = pd.read_csv(\"./cotag_data/\"+\"%s_cotag.csv\" % filename, sep = ',', index_col = 0)\n",
    "    data = df_cotag[\"ct\"]\n",
    "\n",
    "    fit = powerlaw.Fit(data, discrete=True, estimate_discrete=True, xmin=xmin)\n",
    "\n",
    "    \n",
    "\n",
    "    fit.power_law.plot_ccdf(ax=fig, color='purple', linestyle=':', label='Power Law', linewidth=2)      \n",
    "    fit.truncated_power_law.plot_ccdf(ax=fig, color='r', linestyle=':', label='Trunc. Power Law', linewidth=2)      \n",
    "    fit.stretched_exponential.plot_ccdf(ax=fig, color='g', linestyle='-.', label='Stretched Exp.', linewidth=2)\n",
    "    # fit.lognormal_positive.plot_ccdf(ax=fig, color='burlywood', linestyle='-.', label='Lognormal + Fit')\n",
    "    fit.plot_ccdf(linewidth=3, label='Empirical Data', ax = fig)\n",
    "    fit.lognormal.plot_ccdf(ax=fig, color='orange', linestyle='--', label='Lognormal', linewidth=3)\n",
    "    \n",
    "    fig.set_ylabel(\"CDF\")\n",
    "    fig.set_xlabel(\"Tag Occurrences\")\n",
    "    if filename.endswith(\".stackexchange.com\"):\n",
    "        fig.set_title(filename[:-18].upper())\n",
    "    else:        \n",
    "        fig.set_title(filename.upper())"
   ]
  },
  {
   "cell_type": "markdown",
   "metadata": {},
   "source": [
    "## Examples"
   ]
  },
  {
   "cell_type": "code",
   "execution_count": null,
   "metadata": {},
   "outputs": [],
   "source": [
    "import powerlaw\n",
    "\n",
    "plt.rcParams.update({'font.size': 15})\n",
    "f, ((ax1, ax2), (ax3, ax4)) = plt.subplots(2, 2, figsize=(9,6))\n",
    "\n",
    "filename = \"apple\"\n",
    "plot_lognorm_fit(filename, ax1)\n",
    "handles, labels = ax1.get_legend_handles_labels()\n",
    "ax1.legend(handles, labels, loc=3, handlelength=4,  prop = {'size': 10})\n",
    "filename = \"coffee\"\n",
    "plot_lognorm_fit(filename, ax2)\n",
    "filename = \"math.stackexchange.com\"\n",
    "plot_lognorm_fit(filename, ax3)\n",
    "filename = \"fitness\"\n",
    "plot_lognorm_fit(filename, ax4)\n",
    "plt.tight_layout()\n",
    "plt.savefig(\"./files/tex/tagfreq.pdf\", bbox_inches='tight', pad_inches=0.2)"
   ]
  },
  {
   "cell_type": "markdown",
   "metadata": {},
   "source": [
    "## patent is different"
   ]
  },
  {
   "cell_type": "code",
   "execution_count": null,
   "metadata": {},
   "outputs": [],
   "source": [
    "final_df = pd.read_csv(\"./results/patents.csv\", index_col = 0)\n",
    "assert len(final_df) == 169"
   ]
  },
  {
   "cell_type": "code",
   "execution_count": null,
   "metadata": {},
   "outputs": [],
   "source": [
    "final_df.sort_values('ratio2', ascending=False).head(n=5)"
   ]
  },
  {
   "cell_type": "markdown",
   "metadata": {},
   "source": [
    "## Number of Tags on Post"
   ]
  },
  {
   "cell_type": "code",
   "execution_count": null,
   "metadata": {},
   "outputs": [],
   "source": [
    "df_stats = pd.read_csv(\"results/stats.csv\").sort_values('filename').reset_index()\n",
    "final_df = pd.read_csv(\"results/tag_num.csv\").sort_values('filename').reset_index()\n",
    "assert len(final_df) == 168\n",
    "assert len(df_stats) == 168"
   ]
  },
  {
   "cell_type": "code",
   "execution_count": null,
   "metadata": {},
   "outputs": [],
   "source": [
    "plt.rcParams.update({'font.size': 20})\n",
    "plt.scatter(df_stats['num_post'], final_df['n1p'], s = 7, label = '1', alpha = 0.8, marker = 'v')#, c = 'black')\n",
    "plt.scatter(df_stats['num_post'], final_df['n2p'], s = 7, label = '2', alpha = 0.8, marker = '1')#, c = 'black')\n",
    "plt.scatter(df_stats['num_post'], final_df['n3p'], s = 7, label = '3', alpha = 0.8, marker = 'D')#, c = 'black')\n",
    "plt.scatter(df_stats['num_post'], final_df['n4p'], s = 7, label = '4', alpha = 0.8, marker = 's')#, c = 'black')\n",
    "plt.scatter(df_stats['num_post'], final_df['n5p'], s = 7, label = '5', alpha = 0.8, marker = '+')#, c = 'black')\n",
    "# plt.legend()\n",
    "plt.xscale('log')\n",
    "plt.xlabel(\"Number of Questions\")\n",
    "plt.ylabel('Percent of Questions')\n",
    "plt.savefig(\"./files/tex/\"+ 'num_tag_ppost.pdf', bbox_inches='tight', pad_inches=0.2)"
   ]
  },
  {
   "cell_type": "code",
   "execution_count": null,
   "metadata": {},
   "outputs": [],
   "source": [
    "\"%.2f, %.2f, %.2f, %.2f, %.2f,\" %(np.mean(final_df['n1p']), np.mean(final_df['n2p']), np.mean(final_df['n3p']), np.mean(final_df['n4p']), np.mean(final_df['n5p']), )"
   ]
  }
 ],
 "metadata": {
  "kernelspec": {
   "display_name": "Python 3",
   "language": "python",
   "name": "python3"
  },
  "language_info": {
   "codemirror_mode": {
    "name": "ipython",
    "version": 3
   },
   "file_extension": ".py",
   "mimetype": "text/x-python",
   "name": "python",
   "nbconvert_exporter": "python",
   "pygments_lexer": "ipython3",
   "version": "3.6.6"
  }
 },
 "nbformat": 4,
 "nbformat_minor": 2
}
