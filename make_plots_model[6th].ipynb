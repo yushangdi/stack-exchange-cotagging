{
 "cells": [
  {
   "cell_type": "code",
   "execution_count": null,
   "metadata": {},
   "outputs": [],
   "source": [
    "import pandas as pd\n",
    "import matplotlib.pyplot as plt\n",
    "import numpy as np\n",
    "from helpers import *\n",
    "import os \n",
    "import errno\n",
    "from scipy.stats import hypergeom\n",
    "from scipy.special import comb"
   ]
  },
  {
   "cell_type": "markdown",
   "metadata": {},
   "source": [
    "## Directory for saving plots"
   ]
  },
  {
   "cell_type": "code",
   "execution_count": null,
   "metadata": {},
   "outputs": [],
   "source": [
    "try:\n",
    "    os.makedirs(\"files/tex\")\n",
    "except OSError as e:\n",
    "    if e.errno != errno.EEXIST:\n",
    "        raise"
   ]
  },
  {
   "cell_type": "markdown",
   "metadata": {},
   "source": [
    "### slope of tag-cotag linear fit"
   ]
  },
  {
   "cell_type": "code",
   "execution_count": null,
   "metadata": {},
   "outputs": [],
   "source": [
    "final_df = pd.read_csv(\"gen_results/gen_stats.csv\").sort_values(\"filename\").reset_index()\n",
    "final_df_0 = pd.read_csv(\"results/stats.csv\").sort_values(\"filename\").reset_index()\n",
    "assert len(final_df) ==168\n",
    "assert len(final_df_0) ==168"
   ]
  },
  {
   "cell_type": "code",
   "execution_count": null,
   "metadata": {},
   "outputs": [],
   "source": [
    "diff = np.abs(final_df[\"num_post\"] - final_df_0[\"num_post\"])/ final_df_0[\"num_post\"]\n",
    "print(\"difference in total number of questions\", np.mean(diff))\n",
    "print(\"max difference\", np.max(diff))"
   ]
  },
  {
   "cell_type": "code",
   "execution_count": null,
   "metadata": {},
   "outputs": [],
   "source": [
    "mse_model = np.sum((final_df['slope']   - final_df['theory_slope'])  **2)/len(final_df['slope'])\n",
    "mse_data  = np.sum((final_df_0['slope'] - final_df_0['theory_slope'])**2)/len(final_df_0['slope'])\n",
    "print(\"difference in slope between theory and model: %0.3f, data: %0.3f\" % (mse_model, mse_data))"
   ]
  },
  {
   "cell_type": "code",
   "execution_count": null,
   "metadata": {},
   "outputs": [],
   "source": [
    "\n",
    "\n",
    "plt.rcParams.update({'font.size': 20})\n",
    "\n",
    "plt.scatter(final_df['slope'],final_df_0['slope'], alpha = 0.4, s = 18, color = 'black')\n",
    "plt.xlabel(\"Slope (Model)\")\n",
    "plt.ylabel(\"Slope (Data)\")\n",
    "corr = np.corrcoef(final_df['slope'],final_df_0['slope'])\n",
    "plt.legend(['Corr = %0.3f'%corr[0][1]], handlelength=0, markerscale=0, loc = 4)\n",
    "\n",
    "plt.savefig(\"files/tex/gen_\"+'slope.pdf', bbox_inches='tight', pad_inches=0.2)"
   ]
  },
  {
   "cell_type": "code",
   "execution_count": null,
   "metadata": {},
   "outputs": [],
   "source": [
    "print(\"mean correlation in generated\", np.mean(final_df['r_value']))"
   ]
  },
  {
   "cell_type": "markdown",
   "metadata": {},
   "source": [
    "## Clustering"
   ]
  },
  {
   "cell_type": "code",
   "execution_count": null,
   "metadata": {},
   "outputs": [],
   "source": [
    "final_df = pd.read_csv(\"gen_results/gen_clustering.csv\", index_col = 0).sort_values(\"filename\").reset_index()\n",
    "final_df.drop(\"weighted_log\", axis = 1)\n",
    "final_dfnorm = pd.read_csv(\"gen_results/gen_clustering2.csv\", index_col = 0).sort_values(\"filename\").reset_index()\n",
    "\n",
    "final_df_0 = pd.read_csv(\"results/clustering.csv\").sort_values(\"filename\").reset_index()\n",
    "final_df_0.drop(\"weighted_log\", axis = 1)\n",
    "final_df_0norm = pd.read_csv(\"results/clustering2.csv\").sort_values(\"filename\").reset_index()\n",
    "\n",
    "df_stats = pd.read_csv(\"gen_results/gen_stats.csv\", index_col = 0).sort_values(\"filename\").reset_index()\n",
    "\n",
    "assert len(final_dfnorm)==168\n",
    "assert len(final_df)==168\n",
    "assert len(final_df_0norm)==168\n",
    "\n",
    "assert len(final_df_0)==168\n",
    "assert  len(df_stats)==168"
   ]
  },
  {
   "cell_type": "code",
   "execution_count": null,
   "metadata": {},
   "outputs": [],
   "source": [
    "f, (ax1, ax2) = plt.subplots(1, 2) #, sharey=True\n",
    "f.set_size_inches(9,4)\n",
    "plt.rcParams.update({'font.size': 20})\n",
    "\n",
    "\n",
    "ax1.scatter(final_df[\"unweighted\"].values,final_dfnorm[\"weighted_log\"].values, s = 10, marker = 's', label = 'Model', alpha = 0.4)\n",
    "ax1.scatter(final_df_0[\"unweighted\"].values,final_df_0norm[\"weighted_log\"].values, s = 10, marker = 'o', label = 'Data', alpha = 0.4)\n",
    "ax1.set_ylabel(\"$C_{wl}$\",labelpad=19)\n",
    "ax1.set_xlabel(\"$C$\",labelpad=10)\n",
    "ax1.legend(prop={'size': 15},markerscale=3, loc=2)\n",
    "corr = np.corrcoef(final_df_0[\"unweighted\"],final_df_0norm[\"weighted_log\"])\n",
    "print(['Corr = %0.3f'%corr[0][1]])\n",
    "\n",
    "\n",
    "\n",
    "ax2.scatter(final_df[\"unweighted\"].values,  np.log(final_df[\"weighted\"].values), s = 10, marker = 's', alpha = 0.4)\n",
    "ax2.scatter(final_df_0[\"unweighted\"].values,np.log(final_df_0[\"weighted\"].values), s = 10, marker = 'o', alpha = 0.4)\n",
    "corr = np.corrcoef(final_df_0[\"unweighted\"],np.log(final_df_0[\"weighted\"]))\n",
    "print(['Corr = %0.3f'%corr[0][1]])\n",
    "ax2.set_ylabel(\"$\\ln(C_w)$\",labelpad=10)\n",
    "ax2.set_xlabel(\"$C$\",labelpad=10)\n",
    "\n",
    "\n",
    "plt.tight_layout()\n",
    "plt.savefig(\"files/tex/\"+'CC2.pdf', bbox_inches='tight', pad_inches=0.2)\n",
    "plt.show()"
   ]
  },
  {
   "cell_type": "code",
   "execution_count": null,
   "metadata": {},
   "outputs": [],
   "source": [
    "fig = plt.figure(figsize = (15,4))\n",
    "plt.rcParams.update({'font.size': 20})\n",
    "\n",
    "ax1 = fig.add_subplot(131)\n",
    "ax2 = fig.add_subplot(132)\n",
    "ax3 = fig.add_subplot(133)\n",
    "\n",
    "ax1.scatter(final_df[\"unweighted\"], final_df_0[\"unweighted\"], alpha = 0.4,  s = 25, color = 'black')\n",
    "ax1.set_xlabel(\"$C$ (model)\")\n",
    "ax1.set_ylabel(\"$C$ (data)\")\n",
    "corr = np.corrcoef(final_df[\"unweighted\"],final_df_0[\"unweighted\"])\n",
    "ax1.legend(['Corr = %0.3f'%corr[0][1]], handlelength=0, markerscale=0, loc = 4)\n",
    "\n",
    "ax2.scatter(np.log(final_df[\"weighted\"]), np.log(final_df_0[\"weighted\"]), alpha = 0.4,  s = 25, color = 'black')\n",
    "ax2.set_xlabel(\"$\\ln(C_w)$ (model)\")\n",
    "ax2.set_ylabel(\"$\\ln(C_w)$ (data)\")\n",
    "corr = np.corrcoef(np.log(final_df[\"weighted\"]),np.log(final_df_0[\"weighted\"]))\n",
    "ax2.legend(['Corr = %0.3f'%corr[0][1]], handlelength=0, markerscale=0, loc = 4)\n",
    "\n",
    "ax3.scatter(final_dfnorm[\"weighted_log\"], final_df_0norm[\"weighted_log\"], alpha = 0.4,  s = 25, color = 'black')\n",
    "ax3.set_xlabel(\"$C_{wl}$ (model)\")\n",
    "ax3.set_ylabel(\"$C_{wl}$ (data)\")\n",
    "corr = np.corrcoef(final_dfnorm[\"weighted_log\"],final_df_0norm[\"weighted_log\"])\n",
    "ax3.legend(['Corr = %0.3f'%corr[0][1]], handlelength=0, markerscale=0, loc = 4)\n",
    "\n",
    "\n",
    "plt.tight_layout()\n",
    "plt.savefig(\"files/tex/gen_\"+'CC.pdf', bbox_inches='tight', pad_inches=0.2)"
   ]
  },
  {
   "cell_type": "code",
   "execution_count": null,
   "metadata": {},
   "outputs": [],
   "source": [
    "fig = plt.figure(figsize = (15,4))\n",
    "plt.rcParams.update({'font.size': 20})\n",
    "\n",
    "ax1 = fig.add_subplot(131)\n",
    "ax2 = fig.add_subplot(132)\n",
    "ax3 = fig.add_subplot(133)\n",
    "\n",
    "def plot_cc_helper(ax,ylabel):\n",
    "    if ylabel == \"$CC$\":\n",
    "        data = final_df[\"unweighted\"]\n",
    "    if ylabel == \"$\\ln(CC_w)$\":\n",
    "        data = np.log(final_df[\"weighted\"])\n",
    "    if ylabel == \"$CC_{wl}$\":\n",
    "        data =  final_dfnorm[\"weighted_log\"]\n",
    "        \n",
    "    ax.scatter(df_stats[\"num_post\"], data, s = 15, c = 'black')\n",
    "    ax.set_xscale('log')\n",
    "    ax.set_xlabel(\"Number of Questions\")\n",
    "    ax.set_ylabel(ylabel)\n",
    "    corr = np.corrcoef(np.log(df_stats[\"num_post\"]), data)\n",
    "    ax.legend(['Corr = %0.3f'%corr[0][1]], handlelength=0, markerscale=0, prop = {\"size\":18})\n",
    "\n",
    "    \n",
    "plot_cc_helper(ax1,\"$CC$\")\n",
    "plot_cc_helper(ax2,\"$\\ln(CC_w)$\")\n",
    "plot_cc_helper(ax3,\"$CC_{wl}$\")\n",
    "\n",
    "\n",
    "plt.tight_layout()\n",
    "plt.savefig(\"files/tex/\"+'CC_indsize.pdf', bbox_inches='tight', pad_inches=0.2)"
   ]
  },
  {
   "cell_type": "markdown",
   "metadata": {},
   "source": [
    "## Polynonimal Fit"
   ]
  },
  {
   "cell_type": "code",
   "execution_count": null,
   "metadata": {},
   "outputs": [],
   "source": [
    "df  = pd.read_csv(\"gen_results/gen_poly_params.csv\", index_col = 0).dropna().sort_values(\"filename\")\n",
    "PC_dict = np.load('gen_results/gen_param_PC.npy').item()\n",
    "df_0  = pd.read_csv(\"results/poly_params.csv\", index_col = 0).dropna().sort_values(\"filename\")\n",
    "df_0 = df_0[df_0['filename']!='patents']\n",
    "assert len(df) == 167\n",
    "assert len(PC_df) == 168\n",
    "assert len(df_0) == 167\n",
    "assert (len(PC_df_0)==168)"
   ]
  },
  {
   "cell_type": "code",
   "execution_count": null,
   "metadata": {},
   "outputs": [],
   "source": [
    "for k in PC_dict.keys():\n",
    "    print(k, \"\\n\",  PC_dict[k])\n",
    "PC1 = PC_dict[\"PC1\"]\n",
    "PC2 = PC_dict[\"PC2\"]\n",
    "PC_mean = PC_dict[\"PC_mean\"]"
   ]
  },
  {
   "cell_type": "code",
   "execution_count": null,
   "metadata": {},
   "outputs": [],
   "source": [
    "\n",
    "def log_pre(df, x_log = True, y_log = True):\n",
    "    return df[(df.T != 0).all()]\n",
    "\n",
    "\n",
    "def plot_cotag(filename, ax1, params, info):\n",
    "    \n",
    "    csv_gen = \"./files/generated/cotag_files/gen_%s_cotag.csv\" % filename\n",
    "    csv_data = \"./cotag_data/%s_cotag.csv\" % filename\n",
    "    \n",
    "    csv_lst = [csv_data, csv_gen]\n",
    "        \n",
    "    \n",
    "\n",
    "    color_lst = ['b','r','g','c','m','y','k']\n",
    "    counts_lst = []\n",
    "    cotag_u_lst = []\n",
    "    cotag_lst = []\n",
    "    \n",
    "    df_lst =  [None] * len(csv_lst)\n",
    "    for i in range(len(csv_lst)):\n",
    "        \n",
    "        df_lst[i] = pd.read_csv(csv_lst[i], index_col=0)\n",
    "\n",
    "        df_lst[i] = log_pre(df_lst[i])\n",
    "        df_lst[i] = df_lst[i].sort_values('ct').reset_index()\n",
    "\n",
    "        counts_lst.append(np.array((df_lst[i])['ct']))\n",
    "        cotag_u_lst.append(np.array((df_lst[i])['cotag_u']))\n",
    "        cotag_lst.append(np.array((df_lst[i])['cotag']))\n",
    "    \n",
    "    \n",
    "    ## fitted polynomial\n",
    "    \n",
    "    \n",
    "    \n",
    "    ax1.set_xscale(\"log\")\n",
    "    ax1.set_yscale(\"log\")\n",
    "    ax1.set_ylabel(\"Number of Unique Cotags, $k_U$\")\n",
    "    ax1.set_xlabel(\"Number of Tag Occurrences, $x_i$\")\n",
    "    ax1.set_title(filename.upper())\n",
    "    \n",
    "    \n",
    "    legend_name = [\"Data\", \"Model\"]\n",
    "    markers = ['^','s']\n",
    "    styles = ['-', '--']\n",
    "    cs = ['green','orange']\n",
    "    for i in range(len(df_lst)):\n",
    "\n",
    "        ax1.scatter(counts_lst[i], cotag_u_lst[i], alpha=0.4, color = color_lst[i], label = legend_name[i], marker = markers[i], s = 5)\n",
    "        \n",
    "        param_df = params[i]\n",
    "        df_ori = df_lst[i]  \n",
    "        fn = filename\n",
    "        if i == 1: \n",
    "            fn = 'gen_%s'%filename\n",
    "        \n",
    "        d3 = float(param_df[param_df['filename']==fn]['d3'])\n",
    "        d2 = float(param_df[param_df['filename']==fn]['d2'])\n",
    "        d1 = float(param_df[param_df['filename']==fn]['d1'])\n",
    "        d0 = float(param_df[param_df['filename']==fn]['d0'])\n",
    "        f = lambda x: d3*x**3 + d2 * x**2 + d1 * x + d0\n",
    "        fitted = np.exp(f(np.log(df_ori[\"ct\"]+1)))\n",
    "        ax1.plot(df_ori[\"ct\"], fitted, label = legend_name[i] + \" fit\" , linewidth = 3, linestyle = styles[i], c = cs[i])\n",
    "    \n",
    "    \n",
    "    ## theory\n",
    "    theory_df = pd.read_csv(\"./files/theory_unique/\"+filename+\".csv\")\n",
    "    ax1.scatter(theory_df[\"ct\"], theory_df['expected'], label = \"Expected\", s = 10, marker = '+')\n",
    "        \n",
    "        "
   ]
  },
  {
   "cell_type": "markdown",
   "metadata": {},
   "source": [
    "## Examples"
   ]
  },
  {
   "cell_type": "code",
   "execution_count": null,
   "metadata": {},
   "outputs": [],
   "source": [
    "fig = plt.figure(figsize = (14,11))\n",
    "plt.rcParams.update({'font.size': 20})\n",
    "ax1 = fig.add_subplot(221)\n",
    "ax2 = fig.add_subplot(222)\n",
    "ax3 = fig.add_subplot(223)\n",
    "ax4 = fig.add_subplot(224)\n",
    "fig.subplots_adjust(hspace=0.5)\n",
    "filename = \"apple\"\n",
    "plot_cotag(filename, ax1, params =[df_0,df], info = df_stats)\n",
    "ax1.legend(markerscale=5, prop = {\"size\":20})\n",
    "filename = \"coffee\"\n",
    "plot_cotag(filename, ax2, params =[df_0,df], info = df_stats)\n",
    "filename = \"math.stackexchange.com\"\n",
    "plot_cotag(filename, ax3, params =[df_0,df], info = df_stats)\n",
    "filename = \"fitness\"\n",
    "plot_cotag(filename, ax4, params =[df_0,df], info = df_stats)\n",
    "plt.tight_layout()\n",
    "plt.savefig(\"./files/tex/\"+ 'post_uniquec.pdf', bbox_inches='tight', pad_inches=0.2)"
   ]
  },
  {
   "cell_type": "code",
   "execution_count": null,
   "metadata": {},
   "outputs": [],
   "source": [
    "df_stats = pd.read_csv(\"results/stats.csv\", index_col = 0)\n",
    "print(df_stats[df_stats[\"filename\"]==\"apple.txt\"][[\"filename\",  \"num_post\", \"total_tag\", \"num_tag\" ]])\n",
    "print(df_stats[df_stats[\"filename\"]==\"coffee.txt\"][[\"filename\",  \"num_post\", \"total_tag\", \"num_tag\" ]])\n",
    "print(df_stats[df_stats[\"filename\"]==\"math.stackexchange.com.txt\"][[\"filename\",  \"num_post\", \"total_tag\", \"num_tag\" ]])\n",
    "print(df_stats[df_stats[\"filename\"]==\"fitness.txt\"][[\"filename\",  \"num_post\", \"total_tag\", \"num_tag\" ]])"
   ]
  },
  {
   "cell_type": "code",
   "execution_count": null,
   "metadata": {},
   "outputs": [],
   "source": [
    "fig = plt.figure(figsize = (6,4))\n",
    "plt.rcParams.update({'font.size': 15})\n",
    "\n",
    "ax1 = fig.add_subplot(111)\n",
    "\n",
    "X,y = plot_CDF_helper(df['mse'])\n",
    "ax1.plot(X,y, color='blue',linewidth=5, label = \"Degree 3 Fit (Model)\", linestyle = '-.')\n",
    "ax1.set_xlabel(\"MSE\")\n",
    "ax1.set_ylabel(\"CDF\")\n",
    "\n",
    "X,y = plot_CDF_helper(df['mse_lin'])\n",
    "ax1.plot(X,y, color='red',linewidth=5, label = \"Degree 1 Fit (Model)\")\n",
    "\n",
    "\n",
    "X,y = plot_CDF_helper(df_0['mse'])\n",
    "ax1.plot(X,y, color='orange',linewidth=5, label = \"Degree 3 Fit (Data)\", linestyle = \":\")\n",
    "ax1.set_xlabel(\"MSE\")\n",
    "ax1.set_ylabel(\"CDF\")\n",
    "\n",
    "X,y = plot_CDF_helper(df_0['mse_lin'])\n",
    "ax1.plot(X,y, color='green',linewidth=5, label = \"Degree 1 Fit (Data)\", linestyle = \"--\")\n",
    "\n",
    "\n",
    "# ax1.axhline(y = 0.8)\n",
    "ax1.legend(markerscale=0.2,handlelength=2.6)\n",
    "plt.savefig(\"files/tex/\"+'MSE.pdf', bbox_inches='tight', pad_inches=0.2)\n",
    "plt.show()"
   ]
  },
  {
   "cell_type": "markdown",
   "metadata": {},
   "source": [
    "## Number of tags on Questions"
   ]
  },
  {
   "cell_type": "code",
   "execution_count": null,
   "metadata": {},
   "outputs": [],
   "source": [
    "df_stats = pd.read_csv(\"gen_results/gen_stats.csv\").sort_values('filename').reset_index()\n",
    "final_df_0 = pd.read_csv(\"results/tag_num.csv\").sort_values('filename').reset_index()\n",
    "final_df = pd.read_csv(\"gen_results/gen_tag_num.csv\").sort_values('filename').reset_index()\n",
    "assert len(df_stats)==168\n",
    "assert len(final_df_0)==168\n",
    "assert len(final_df)==168"
   ]
  },
  {
   "cell_type": "code",
   "execution_count": null,
   "metadata": {},
   "outputs": [],
   "source": [
    "from matplotlib import ticker\n",
    "plt.rcParams.update({'font.size': 20})\n",
    "\n",
    "fig1, ax1 = plt.subplots()\n",
    "corr = np.corrcoef(final_df['n1p'],final_df_0['n1p'])[0][1]\n",
    "ax1.scatter(final_df['n1p'],final_df_0['n1p'], s = 15, label = 'c1=%0.2f'%corr, alpha = 0.5, marker = 'v')#, c='black')\n",
    "corr = np.corrcoef(final_df['n2p'],final_df_0['n2p'])[0][1]\n",
    "ax1.scatter(final_df['n2p'],final_df_0['n2p'], s = 15, label = 'c2=%0.2f'%corr, alpha = 0.5, marker = '1')#, c='black')\n",
    "corr = np.corrcoef(final_df['n3p'],final_df_0['n3p'])[0][1]\n",
    "ax1.scatter(final_df['n3p'],final_df_0['n4p'], s = 15, label = 'c3=%0.2f'%corr, alpha = 0.5, marker = 'D')#, c='black')\n",
    "corr = np.corrcoef(final_df['n4p'],final_df_0['n4p'])[0][1]\n",
    "ax1.scatter(final_df['n4p'],final_df_0['n4p'], s = 15, label = 'c4=%0.2f'%corr, alpha = 0.5, marker = 's')#, c='black')\n",
    "corr = np.corrcoef(final_df['n5p'],final_df_0['n5p'])[0][1]\n",
    "ax1.scatter(final_df['n5p'],final_df_0['n5p'], s = 15, label = 'c5=%0.2f'%corr, alpha = 0.5, marker = '+')#, c='black')\n",
    "ax1.legend(loc = 'upper left',handlelength=1, markerscale=2, prop = {\"size\" : 16})\n",
    "ax1.set_xlabel('Fraction (Model)')\n",
    "ax1.set_ylabel('Fraction (Data)')\n",
    "\n",
    "\n",
    "plt.savefig(\"./files/tex/\"+ 'gen_num_tag_ppost.pdf', bbox_inches='tight', pad_inches=0.2)"
   ]
  },
  {
   "cell_type": "code",
   "execution_count": null,
   "metadata": {},
   "outputs": [],
   "source": [
    "print(\"average percentage of morethan 5 tag questions\", np.mean(final_df['nm']/df_stats['num_post']))"
   ]
  },
  {
   "cell_type": "code",
   "execution_count": null,
   "metadata": {},
   "outputs": [],
   "source": [
    "x,y = plot_CDF_helper(final_df['nm']/df_stats['num_post'])\n",
    "plt.plot(x,y, linewidth = 5, color = 'black')\n",
    "plt.axhline(y = 0.8, color = 'gray', linestyle = \"--\")\n",
    "plt.axvline(x = 0.045, color = 'gray', linestyle = \"--\")\n",
    "plt.xlabel(\"Fraction of Questions with More Than 5 Tags\")\n",
    "plt.ylabel(\"CDF\")\n",
    "plt.savefig(\"files/tex/\"+'more_than_5.pdf', bbox_inches='tight', pad_inches=0.2)"
   ]
  }
 ],
 "metadata": {
  "kernelspec": {
   "display_name": "Python 3",
   "language": "python",
   "name": "python3"
  },
  "language_info": {
   "codemirror_mode": {
    "name": "ipython",
    "version": 3
   },
   "file_extension": ".py",
   "mimetype": "text/x-python",
   "name": "python",
   "nbconvert_exporter": "python",
   "pygments_lexer": "ipython3",
   "version": "3.6.6"
  }
 },
 "nbformat": 4,
 "nbformat_minor": 2
}
