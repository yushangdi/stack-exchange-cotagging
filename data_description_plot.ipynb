{
 "cells": [
  {
   "cell_type": "code",
   "execution_count": null,
   "metadata": {},
   "outputs": [],
   "source": [
    "import pandas as pd\n",
    "import matplotlib.pyplot as plt\n",
    "import matplotlib\n",
    "import seaborn as sns\n",
    "from mpl_toolkits.mplot3d import Axes3D\n",
    "import numpy as np"
   ]
  },
  {
   "cell_type": "code",
   "execution_count": null,
   "metadata": {},
   "outputs": [],
   "source": [
    "%matplotlib inline"
   ]
  },
  {
   "cell_type": "code",
   "execution_count": null,
   "metadata": {},
   "outputs": [],
   "source": [
    "final_df = pd.read_csv(\"results/stats.csv\", index_col=0)"
   ]
  },
  {
   "cell_type": "code",
   "execution_count": null,
   "metadata": {},
   "outputs": [],
   "source": [
    "def dist_plot(df,colname):\n",
    "    f, ax = plt.subplots(1, 1,sharex = True)\n",
    "    ax = sns.distplot(df[colname], kde = False, bins = 30)    \n",
    "    ax.set_title(colname)\n",
    "    ax.set_xlabel(colname)\n",
    "    ax.set_ylabel('frequency')\n",
    "    ax.legend()"
   ]
  },
  {
   "cell_type": "markdown",
   "metadata": {},
   "source": [
    "### Dataset statistics"
   ]
  },
  {
   "cell_type": "code",
   "execution_count": null,
   "metadata": {},
   "outputs": [],
   "source": [
    "final_df = final_df.sort_values('num_post')\n",
    "final_df = final_df.reset_index()\n",
    "Apple = final_df[final_df['filename'] == 'apple.txt']\n",
    "Coffee = final_df[final_df['filename'] == 'coffee.txt']\n",
    "bbox = dict(boxstyle=\"round\", fc=\"0.8\")\n",
    "arrowprops = dict(\n",
    "    arrowstyle = \"->\",\n",
    "    connectionstyle = \"angle,angleA=0,angleB=150,rad=10\")\n",
    "offset = 45\n",
    "arrowprops2 = dict(\n",
    "    arrowstyle = \"->\",\n",
    "    connectionstyle = \"angle,angleA=0,angleB=90,rad=10\")\n",
    "arrowprops3 = dict(\n",
    "    arrowstyle = \"->\",\n",
    "    connectionstyle = \"angle,angleA=0,angleB=75,rad=10\")"
   ]
  },
  {
   "cell_type": "code",
   "execution_count": null,
   "metadata": {},
   "outputs": [],
   "source": [
    "x_axis = np.arange(len(final_df))\n",
    "posts = final_df['num_post']\n",
    "total_tags = final_df['total_tag']\n",
    "num_tags = final_df['num_tag']\n",
    "plt.scatter(x_axis, total_tags, s=25, marker = '^', facecolors='none', edgecolors='blue',\n",
    "            label = \"POST-TAG PAIRS\")\n",
    "plt.scatter(x_axis, posts, s=25, marker = 'o', facecolors='none', edgecolors='gold',\n",
    "            label = \"POSTS\")\n",
    "plt.scatter(x_axis, num_tags, s=25, marker = 's', facecolors='none', edgecolors='green',\n",
    "            label = \"TAGS\")\n",
    "plt.yscale('log')\n",
    "plt.annotate(text = \"APPLE: %d\"%int(Apple.num_post),\n",
    "             xytext=(-3*offset, offset-20), textcoords='offset points',\n",
    "             xy = (Apple.index.values,int(Apple.num_post)), bbox=bbox, arrowprops=arrowprops)\n",
    "plt.annotate(text = \"APPLE: %d\"%int(Apple.total_tag),\n",
    "             xytext=(-3*offset, offset-20), textcoords='offset points',\n",
    "             xy = (Apple.index.values,int(Apple.total_tag)), bbox=bbox, arrowprops=arrowprops)\n",
    "plt.annotate(text = \"APPLE: %d\"%int(Apple.num_tag),\n",
    "             xytext=(-0.7*offset, 0.9*offset), textcoords='offset points',\n",
    "             xy = (Apple.index.values,int(Apple.num_tag)), bbox=bbox, arrowprops=arrowprops2)\n",
    "plt.annotate(text = \"COFFEE: %d\"%int(Coffee.num_post),\n",
    "            xytext=(0.15*offset, offset+5), textcoords='offset points',\n",
    "            xy = (Coffee.index.values,int(Coffee.num_post)), bbox=bbox, arrowprops=arrowprops3)\n",
    "plt.annotate(text = \"COFFEE: %d\"%int(Coffee.total_tag),\n",
    "            xytext=(-0.5*offset, offset+13), textcoords='offset points',\n",
    "            xy = (Coffee.index.values,int(Coffee.total_tag)), bbox=bbox, arrowprops=arrowprops2)\n",
    "plt.annotate(text = \"COFFEE: %d\"%int(Coffee.num_tag),\n",
    "            xytext=(1*offset, -0.5*offset), textcoords='offset points',\n",
    "            xy = (Coffee.index.values,int(Coffee.num_tag)), bbox=bbox, arrowprops=arrowprops2)\n",
    "plt.plot()\n",
    "plt.legend()\n",
    "plt.ylim(10)\n",
    "plt.xticks([])\n",
    "plt.xlabel(\"Datasets\", fontsize = 15)\n",
    "plt.ylabel(\"Counts\", fontsize = 15)\n",
    "plt.savefig('data_desc.pdf', bbox_inches='tight', format = 'pdf')\n",
    "plt.show()"
   ]
  }
 ],
 "metadata": {
  "kernelspec": {
   "display_name": "Python 3",
   "language": "python",
   "name": "python3"
  },
  "language_info": {
   "codemirror_mode": {
    "name": "ipython",
    "version": 3
   },
   "file_extension": ".py",
   "mimetype": "text/x-python",
   "name": "python",
   "nbconvert_exporter": "python",
   "pygments_lexer": "ipython3",
   "version": "3.6.6"
  }
 },
 "nbformat": 4,
 "nbformat_minor": 2
}
